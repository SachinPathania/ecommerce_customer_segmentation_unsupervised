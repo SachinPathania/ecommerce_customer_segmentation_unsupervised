{
 "cells": [
  {
   "cell_type": "markdown",
   "id": "3fe23983",
   "metadata": {},
   "source": [
    "# Author : Sachin Pathania                                              \n",
    "##### LinkdIn : https://www.linkedin.com/in/sachinpathania/"
   ]
  },
  {
   "cell_type": "markdown",
   "id": "905fe240",
   "metadata": {},
   "source": [
    "## CAPSTONE: Clustering Customer Behavior Based on E-commerce Event Data"
   ]
  },
  {
   "cell_type": "markdown",
   "id": "65bbc7d1",
   "metadata": {},
   "source": [
    "# Problem Statement:"
   ]
  },
  {
   "cell_type": "markdown",
   "id": "1ffe086e",
   "metadata": {},
   "source": [
    "## In a modern e-commerce platform, understanding customer behavior is critical for optimizing user experience and increasing sales. The provided dataset contains information about user interactions with various products on the platform, including event types, product categories, brands, prices, and user sessions.\n",
    "\n",
    "## This is an unsupervised machine learning problem aimed at uncovering hidden patterns in user behavior to group similar users or actions. These insights could assist in personalizing user experiences, targeting advertisements, or improving product recommendations.\n",
    "\n",
    "## For this problem statement you can use complete data and cluster it to find top themes.\n",
    "## Provide solution which consists of:\n",
    "- Data Cleaning & preprocessing\n",
    "- Features selected.\n",
    "- Clustering and number of clusters identified /suggested by you as Data Scientist\n",
    "- Evaluation of model\n",
    "- Insights for Business\n",
    "#### Use the “Ecommerce_data”’ table from the Database.db file for the project."
   ]
  },
  {
   "cell_type": "markdown",
   "id": "7bf4758c",
   "metadata": {},
   "source": [
    "# 1. Import Libraries"
   ]
  },
  {
   "cell_type": "code",
   "execution_count": 2,
   "id": "703bde7b",
   "metadata": {},
   "outputs": [],
   "source": [
    "import pandas as pd\n",
    "import numpy as np\n",
    "import seaborn as sns\n",
    "import matplotlib.pyplot as plt\n",
    "from sklearn.preprocessing import LabelEncoder, StandardScaler, OneHotEncoder\n",
    "from sklearn.cluster import KMeans\n",
    "from sklearn.metrics import silhouette_score\n",
    "from sklearn.decomposition import PCA\n",
    "import warnings\n",
    "warnings.filterwarnings('ignore')\n",
    "pd.set_option(\"display.max_columns\", None)\n",
    "pd.set_option(\"display.max_rows\", None)\n",
    "#SQLite connector\n",
    "import sqlite3"
   ]
  },
  {
   "cell_type": "markdown",
   "id": "40576e37",
   "metadata": {},
   "source": [
    "# 2. Connect to the SQLite database file"
   ]
  },
  {
   "cell_type": "code",
   "execution_count": 9,
   "id": "66fa72e5",
   "metadata": {},
   "outputs": [
    {
     "data": {
      "text/plain": [
       "<sqlite3.Cursor at 0x2a3f2f87d40>"
      ]
     },
     "execution_count": 9,
     "metadata": {},
     "output_type": "execute_result"
    }
   ],
   "source": [
    "# Connect to the SQLite database file\n",
    "conn = sqlite3.connect('Database.db')\n",
    "# Create a cursor object\n",
    "cursor = conn.cursor()\n",
    "# Query to retrieve table names\n",
    "cursor.execute(\"SELECT name FROM sqlite_master WHERE type='table';\")"
   ]
  },
  {
   "cell_type": "code",
   "execution_count": 10,
   "id": "e886ada6",
   "metadata": {},
   "outputs": [],
   "source": [
    "# Fetch all table names from database\n",
    "tables = cursor.fetchall()"
   ]
  },
  {
   "cell_type": "code",
   "execution_count": 11,
   "id": "fb2f30dd",
   "metadata": {},
   "outputs": [
    {
     "data": {
      "text/plain": [
       "[('Electric_cars',),\n",
       " ('Fraud_detection',),\n",
       " ('Heart_disease',),\n",
       " ('Insurance_Prediction',),\n",
       " ('TripAdviser_Reviews',),\n",
       " ('Ecommerce_data',),\n",
       " ('Automobile_data',),\n",
       " ('Supermarket_data',)]"
      ]
     },
     "execution_count": 11,
     "metadata": {},
     "output_type": "execute_result"
    }
   ],
   "source": [
    "tables"
   ]
  },
  {
   "cell_type": "code",
   "execution_count": 12,
   "id": "da0f50ac",
   "metadata": {},
   "outputs": [
    {
     "name": "stdout",
     "output_type": "stream",
     "text": [
      "Electric_cars\n",
      "Fraud_detection\n",
      "Heart_disease\n",
      "Insurance_Prediction\n",
      "TripAdviser_Reviews\n",
      "Ecommerce_data\n",
      "Automobile_data\n",
      "Supermarket_data\n"
     ]
    }
   ],
   "source": [
    "# Print the table names\n",
    "for table in tables:\n",
    "    print(table[0])"
   ]
  },
  {
   "cell_type": "code",
   "execution_count": 13,
   "id": "ff71b595",
   "metadata": {},
   "outputs": [],
   "source": [
    "# Close the connection\n",
    "conn.close()"
   ]
  },
  {
   "cell_type": "markdown",
   "id": "a91b592f",
   "metadata": {},
   "source": [
    "# 3. Load the Data"
   ]
  },
  {
   "cell_type": "code",
   "execution_count": 14,
   "id": "478879ce",
   "metadata": {},
   "outputs": [],
   "source": [
    "conn = sqlite3.connect('Database.db')\n",
    "df_ecommerce = pd.read_sql_query('Select * from Ecommerce_data' , conn)"
   ]
  },
  {
   "cell_type": "code",
   "execution_count": 15,
   "id": "4490b7a7",
   "metadata": {},
   "outputs": [
    {
     "data": {
      "text/html": [
       "<div>\n",
       "<style scoped>\n",
       "    .dataframe tbody tr th:only-of-type {\n",
       "        vertical-align: middle;\n",
       "    }\n",
       "\n",
       "    .dataframe tbody tr th {\n",
       "        vertical-align: top;\n",
       "    }\n",
       "\n",
       "    .dataframe thead th {\n",
       "        text-align: right;\n",
       "    }\n",
       "</style>\n",
       "<table border=\"1\" class=\"dataframe\">\n",
       "  <thead>\n",
       "    <tr style=\"text-align: right;\">\n",
       "      <th></th>\n",
       "      <th>event_time</th>\n",
       "      <th>event_type</th>\n",
       "      <th>product_id</th>\n",
       "      <th>category_id</th>\n",
       "      <th>category_code</th>\n",
       "      <th>brand</th>\n",
       "      <th>price</th>\n",
       "      <th>user_id</th>\n",
       "      <th>user_session</th>\n",
       "    </tr>\n",
       "  </thead>\n",
       "  <tbody>\n",
       "    <tr>\n",
       "      <th>0</th>\n",
       "      <td>2020-04-01 00:00:00 UTC</td>\n",
       "      <td>view</td>\n",
       "      <td>1201465</td>\n",
       "      <td>2232732101407408685</td>\n",
       "      <td>apparel.shoes.slipons</td>\n",
       "      <td>samsung</td>\n",
       "      <td>230.38</td>\n",
       "      <td>568984877</td>\n",
       "      <td>e2456cef-2d4f-42b9-a53a-8893cb0c6851</td>\n",
       "    </tr>\n",
       "    <tr>\n",
       "      <th>1</th>\n",
       "      <td>2020-04-01 00:00:01 UTC</td>\n",
       "      <td>view</td>\n",
       "      <td>1307156</td>\n",
       "      <td>2053013554658804075</td>\n",
       "      <td>electronics.audio.headphone</td>\n",
       "      <td>apple</td>\n",
       "      <td>1352.67</td>\n",
       "      <td>514955500</td>\n",
       "      <td>38f43134-de83-4710-ae0a-326677d292c6</td>\n",
       "    </tr>\n",
       "    <tr>\n",
       "      <th>2</th>\n",
       "      <td>2020-04-01 00:00:01 UTC</td>\n",
       "      <td>view</td>\n",
       "      <td>1480477</td>\n",
       "      <td>2053013563835941749</td>\n",
       "      <td>appliances.kitchen.refrigerators</td>\n",
       "      <td>apple</td>\n",
       "      <td>1184.05</td>\n",
       "      <td>633645770</td>\n",
       "      <td>16aba270-b3c2-4b23-be0a-b7c80bc9da9e</td>\n",
       "    </tr>\n",
       "    <tr>\n",
       "      <th>3</th>\n",
       "      <td>2020-04-01 00:00:02 UTC</td>\n",
       "      <td>view</td>\n",
       "      <td>1307050</td>\n",
       "      <td>2053013554658804075</td>\n",
       "      <td>electronics.audio.headphone</td>\n",
       "      <td>apple</td>\n",
       "      <td>1724.34</td>\n",
       "      <td>564933778</td>\n",
       "      <td>05b443bd-e68a-4d72-b971-80bd31109cb8</td>\n",
       "    </tr>\n",
       "    <tr>\n",
       "      <th>4</th>\n",
       "      <td>2020-04-01 00:00:03 UTC</td>\n",
       "      <td>view</td>\n",
       "      <td>9500109</td>\n",
       "      <td>2232732104175649385</td>\n",
       "      <td>apparel.scarf</td>\n",
       "      <td>defender</td>\n",
       "      <td>25.05</td>\n",
       "      <td>530206135</td>\n",
       "      <td>e3c1fb4b-0a7e-457d-a0cf-5d1479e9aafc</td>\n",
       "    </tr>\n",
       "  </tbody>\n",
       "</table>\n",
       "</div>"
      ],
      "text/plain": [
       "                event_time event_type  product_id          category_id  \\\n",
       "0  2020-04-01 00:00:00 UTC       view     1201465  2232732101407408685   \n",
       "1  2020-04-01 00:00:01 UTC       view     1307156  2053013554658804075   \n",
       "2  2020-04-01 00:00:01 UTC       view     1480477  2053013563835941749   \n",
       "3  2020-04-01 00:00:02 UTC       view     1307050  2053013554658804075   \n",
       "4  2020-04-01 00:00:03 UTC       view     9500109  2232732104175649385   \n",
       "\n",
       "                      category_code     brand    price    user_id  \\\n",
       "0             apparel.shoes.slipons   samsung   230.38  568984877   \n",
       "1       electronics.audio.headphone     apple  1352.67  514955500   \n",
       "2  appliances.kitchen.refrigerators     apple  1184.05  633645770   \n",
       "3       electronics.audio.headphone     apple  1724.34  564933778   \n",
       "4                     apparel.scarf  defender    25.05  530206135   \n",
       "\n",
       "                           user_session  \n",
       "0  e2456cef-2d4f-42b9-a53a-8893cb0c6851  \n",
       "1  38f43134-de83-4710-ae0a-326677d292c6  \n",
       "2  16aba270-b3c2-4b23-be0a-b7c80bc9da9e  \n",
       "3  05b443bd-e68a-4d72-b971-80bd31109cb8  \n",
       "4  e3c1fb4b-0a7e-457d-a0cf-5d1479e9aafc  "
      ]
     },
     "execution_count": 15,
     "metadata": {},
     "output_type": "execute_result"
    }
   ],
   "source": [
    "df_ecommerce.head()"
   ]
  },
  {
   "cell_type": "code",
   "execution_count": 18,
   "id": "7d262046",
   "metadata": {},
   "outputs": [
    {
     "data": {
      "text/plain": [
       "((1000000, 9), 9000000)"
      ]
     },
     "execution_count": 18,
     "metadata": {},
     "output_type": "execute_result"
    }
   ],
   "source": [
    "df_ecommerce.shape,df_ecommerce.size"
   ]
  },
  {
   "cell_type": "code",
   "execution_count": 19,
   "id": "f6261596",
   "metadata": {},
   "outputs": [
    {
     "name": "stdout",
     "output_type": "stream",
     "text": [
      "<class 'pandas.core.frame.DataFrame'>\n",
      "RangeIndex: 1000000 entries, 0 to 999999\n",
      "Data columns (total 9 columns):\n",
      " #   Column         Non-Null Count    Dtype  \n",
      "---  ------         --------------    -----  \n",
      " 0   event_time     1000000 non-null  object \n",
      " 1   event_type     1000000 non-null  object \n",
      " 2   product_id     1000000 non-null  int64  \n",
      " 3   category_id    1000000 non-null  int64  \n",
      " 4   category_code  915317 non-null   object \n",
      " 5   brand          895048 non-null   object \n",
      " 6   price          1000000 non-null  float64\n",
      " 7   user_id        1000000 non-null  int64  \n",
      " 8   user_session   999994 non-null   object \n",
      "dtypes: float64(1), int64(3), object(5)\n",
      "memory usage: 68.7+ MB\n"
     ]
    }
   ],
   "source": [
    "df_ecommerce.info()"
   ]
  },
  {
   "cell_type": "code",
   "execution_count": 21,
   "id": "57ce3a1c",
   "metadata": {},
   "outputs": [
    {
     "data": {
      "text/html": [
       "<div>\n",
       "<style scoped>\n",
       "    .dataframe tbody tr th:only-of-type {\n",
       "        vertical-align: middle;\n",
       "    }\n",
       "\n",
       "    .dataframe tbody tr th {\n",
       "        vertical-align: top;\n",
       "    }\n",
       "\n",
       "    .dataframe thead th {\n",
       "        text-align: right;\n",
       "    }\n",
       "</style>\n",
       "<table border=\"1\" class=\"dataframe\">\n",
       "  <thead>\n",
       "    <tr style=\"text-align: right;\">\n",
       "      <th></th>\n",
       "      <th>event_time</th>\n",
       "      <th>event_type</th>\n",
       "      <th>product_id</th>\n",
       "      <th>category_id</th>\n",
       "      <th>category_code</th>\n",
       "      <th>brand</th>\n",
       "      <th>price</th>\n",
       "      <th>user_id</th>\n",
       "      <th>user_session</th>\n",
       "    </tr>\n",
       "  </thead>\n",
       "  <tbody>\n",
       "    <tr>\n",
       "      <th>count</th>\n",
       "      <td>1000000</td>\n",
       "      <td>1000000</td>\n",
       "      <td>1.000000e+06</td>\n",
       "      <td>1.000000e+06</td>\n",
       "      <td>915317</td>\n",
       "      <td>895048</td>\n",
       "      <td>1000000.000000</td>\n",
       "      <td>1.000000e+06</td>\n",
       "      <td>999994</td>\n",
       "    </tr>\n",
       "    <tr>\n",
       "      <th>unique</th>\n",
       "      <td>50520</td>\n",
       "      <td>3</td>\n",
       "      <td>NaN</td>\n",
       "      <td>NaN</td>\n",
       "      <td>136</td>\n",
       "      <td>2921</td>\n",
       "      <td>NaN</td>\n",
       "      <td>NaN</td>\n",
       "      <td>182715</td>\n",
       "    </tr>\n",
       "    <tr>\n",
       "      <th>top</th>\n",
       "      <td>2020-04-01 12:31:41 UTC</td>\n",
       "      <td>view</td>\n",
       "      <td>NaN</td>\n",
       "      <td>NaN</td>\n",
       "      <td>construction.tools.light</td>\n",
       "      <td>samsung</td>\n",
       "      <td>NaN</td>\n",
       "      <td>NaN</td>\n",
       "      <td>3783af17-7bfd-4d74-9519-cb34a990fcdc</td>\n",
       "    </tr>\n",
       "    <tr>\n",
       "      <th>freq</th>\n",
       "      <td>98</td>\n",
       "      <td>918022</td>\n",
       "      <td>NaN</td>\n",
       "      <td>NaN</td>\n",
       "      <td>241041</td>\n",
       "      <td>137065</td>\n",
       "      <td>NaN</td>\n",
       "      <td>NaN</td>\n",
       "      <td>1811</td>\n",
       "    </tr>\n",
       "    <tr>\n",
       "      <th>mean</th>\n",
       "      <td>NaN</td>\n",
       "      <td>NaN</td>\n",
       "      <td>3.283568e+07</td>\n",
       "      <td>2.172217e+18</td>\n",
       "      <td>NaN</td>\n",
       "      <td>NaN</td>\n",
       "      <td>311.880428</td>\n",
       "      <td>5.752292e+08</td>\n",
       "      <td>NaN</td>\n",
       "    </tr>\n",
       "    <tr>\n",
       "      <th>std</th>\n",
       "      <td>NaN</td>\n",
       "      <td>NaN</td>\n",
       "      <td>4.187056e+07</td>\n",
       "      <td>8.479174e+16</td>\n",
       "      <td>NaN</td>\n",
       "      <td>NaN</td>\n",
       "      <td>369.086812</td>\n",
       "      <td>4.505875e+07</td>\n",
       "      <td>NaN</td>\n",
       "    </tr>\n",
       "    <tr>\n",
       "      <th>min</th>\n",
       "      <td>NaN</td>\n",
       "      <td>NaN</td>\n",
       "      <td>1.000978e+06</td>\n",
       "      <td>2.053014e+18</td>\n",
       "      <td>NaN</td>\n",
       "      <td>NaN</td>\n",
       "      <td>0.000000</td>\n",
       "      <td>1.046558e+08</td>\n",
       "      <td>NaN</td>\n",
       "    </tr>\n",
       "    <tr>\n",
       "      <th>25%</th>\n",
       "      <td>NaN</td>\n",
       "      <td>NaN</td>\n",
       "      <td>1.307331e+06</td>\n",
       "      <td>2.053014e+18</td>\n",
       "      <td>NaN</td>\n",
       "      <td>NaN</td>\n",
       "      <td>69.320000</td>\n",
       "      <td>5.296691e+08</td>\n",
       "      <td>NaN</td>\n",
       "    </tr>\n",
       "    <tr>\n",
       "      <th>50%</th>\n",
       "      <td>NaN</td>\n",
       "      <td>NaN</td>\n",
       "      <td>8.800773e+06</td>\n",
       "      <td>2.232732e+18</td>\n",
       "      <td>NaN</td>\n",
       "      <td>NaN</td>\n",
       "      <td>187.910000</td>\n",
       "      <td>5.738721e+08</td>\n",
       "      <td>NaN</td>\n",
       "    </tr>\n",
       "    <tr>\n",
       "      <th>75%</th>\n",
       "      <td>NaN</td>\n",
       "      <td>NaN</td>\n",
       "      <td>1.000111e+08</td>\n",
       "      <td>2.232732e+18</td>\n",
       "      <td>NaN</td>\n",
       "      <td>NaN</td>\n",
       "      <td>398.720000</td>\n",
       "      <td>6.210633e+08</td>\n",
       "      <td>NaN</td>\n",
       "    </tr>\n",
       "    <tr>\n",
       "      <th>max</th>\n",
       "      <td>NaN</td>\n",
       "      <td>NaN</td>\n",
       "      <td>1.001860e+08</td>\n",
       "      <td>2.253831e+18</td>\n",
       "      <td>NaN</td>\n",
       "      <td>NaN</td>\n",
       "      <td>2574.070000</td>\n",
       "      <td>6.354001e+08</td>\n",
       "      <td>NaN</td>\n",
       "    </tr>\n",
       "  </tbody>\n",
       "</table>\n",
       "</div>"
      ],
      "text/plain": [
       "                     event_time event_type    product_id   category_id  \\\n",
       "count                   1000000    1000000  1.000000e+06  1.000000e+06   \n",
       "unique                    50520          3           NaN           NaN   \n",
       "top     2020-04-01 12:31:41 UTC       view           NaN           NaN   \n",
       "freq                         98     918022           NaN           NaN   \n",
       "mean                        NaN        NaN  3.283568e+07  2.172217e+18   \n",
       "std                         NaN        NaN  4.187056e+07  8.479174e+16   \n",
       "min                         NaN        NaN  1.000978e+06  2.053014e+18   \n",
       "25%                         NaN        NaN  1.307331e+06  2.053014e+18   \n",
       "50%                         NaN        NaN  8.800773e+06  2.232732e+18   \n",
       "75%                         NaN        NaN  1.000111e+08  2.232732e+18   \n",
       "max                         NaN        NaN  1.001860e+08  2.253831e+18   \n",
       "\n",
       "                   category_code    brand           price       user_id  \\\n",
       "count                     915317   895048  1000000.000000  1.000000e+06   \n",
       "unique                       136     2921             NaN           NaN   \n",
       "top     construction.tools.light  samsung             NaN           NaN   \n",
       "freq                      241041   137065             NaN           NaN   \n",
       "mean                         NaN      NaN      311.880428  5.752292e+08   \n",
       "std                          NaN      NaN      369.086812  4.505875e+07   \n",
       "min                          NaN      NaN        0.000000  1.046558e+08   \n",
       "25%                          NaN      NaN       69.320000  5.296691e+08   \n",
       "50%                          NaN      NaN      187.910000  5.738721e+08   \n",
       "75%                          NaN      NaN      398.720000  6.210633e+08   \n",
       "max                          NaN      NaN     2574.070000  6.354001e+08   \n",
       "\n",
       "                                user_session  \n",
       "count                                 999994  \n",
       "unique                                182715  \n",
       "top     3783af17-7bfd-4d74-9519-cb34a990fcdc  \n",
       "freq                                    1811  \n",
       "mean                                     NaN  \n",
       "std                                      NaN  \n",
       "min                                      NaN  \n",
       "25%                                      NaN  \n",
       "50%                                      NaN  \n",
       "75%                                      NaN  \n",
       "max                                      NaN  "
      ]
     },
     "execution_count": 21,
     "metadata": {},
     "output_type": "execute_result"
    }
   ],
   "source": [
    "df_ecommerce.describe(include='all')"
   ]
  },
  {
   "cell_type": "code",
   "execution_count": 22,
   "id": "893fc330",
   "metadata": {},
   "outputs": [
    {
     "data": {
      "text/plain": [
       "event_time            0\n",
       "event_type            0\n",
       "product_id            0\n",
       "category_id           0\n",
       "category_code     84683\n",
       "brand            104952\n",
       "price                 0\n",
       "user_id               0\n",
       "user_session          6\n",
       "dtype: int64"
      ]
     },
     "execution_count": 22,
     "metadata": {},
     "output_type": "execute_result"
    }
   ],
   "source": [
    "df_ecommerce.isnull().sum()"
   ]
  },
  {
   "cell_type": "markdown",
   "id": "6ce74d28",
   "metadata": {},
   "source": [
    "### -- category_code  and brand contains null values"
   ]
  },
  {
   "cell_type": "code",
   "execution_count": 25,
   "id": "b7409f95",
   "metadata": {},
   "outputs": [
    {
     "data": {
      "text/plain": [
       "<Axes: xlabel='price', ylabel='Density'>"
      ]
     },
     "execution_count": 25,
     "metadata": {},
     "output_type": "execute_result"
    },
    {
     "data": {
      "image/png": "[encoded data removed]",
      "text/plain": [
       "<Figure size 640x480 with 1 Axes>"
      ]
     },
     "metadata": {},
     "output_type": "display_data"
    }
   ],
   "source": [
    "sns.distplot(df_ecommerce['price'])"
   ]
  },
  {
   "cell_type": "code",
   "execution_count": 28,
   "id": "6ac1d5b4",
   "metadata": {},
   "outputs": [
    {
     "data": {
      "text/plain": [
       "count    1000000.000000\n",
       "mean         311.880428\n",
       "std          369.086812\n",
       "min            0.000000\n",
       "25%           69.320000\n",
       "50%          187.910000\n",
       "75%          398.720000\n",
       "max         2574.070000\n",
       "Name: price, dtype: float64"
      ]
     },
     "execution_count": 28,
     "metadata": {},
     "output_type": "execute_result"
    }
   ],
   "source": [
    "df_ecommerce['price'].describe()"
   ]
  },
  {
   "cell_type": "code",
   "execution_count": 29,
   "id": "72b0f722",
   "metadata": {},
   "outputs": [
    {
     "data": {
      "text/plain": [
       "(1773, 9)"
      ]
     },
     "execution_count": 29,
     "metadata": {},
     "output_type": "execute_result"
    }
   ],
   "source": [
    "df_ecommerce[df_ecommerce['price']==0].shape"
   ]
  },
  {
   "cell_type": "markdown",
   "id": "9c82de15",
   "metadata": {},
   "source": [
    "# 6. Data Cleaning & preprocessing"
   ]
  },
  {
   "cell_type": "code",
   "execution_count": 31,
   "id": "f8052b63",
   "metadata": {},
   "outputs": [
    {
     "data": {
      "text/plain": [
       "array([None], dtype=object)"
      ]
     },
     "execution_count": 31,
     "metadata": {},
     "output_type": "execute_result"
    }
   ],
   "source": [
    "df_ecommerce[df_ecommerce['price']==0]['brand'].unique()"
   ]
  },
  {
   "cell_type": "markdown",
   "id": "0a31481b",
   "metadata": {},
   "source": [
    "## NOTE: Remove invalid prices"
   ]
  },
  {
   "cell_type": "code",
   "execution_count": 49,
   "id": "61ef290b",
   "metadata": {},
   "outputs": [],
   "source": [
    "df_ecommerce = df_ecommerce[df_ecommerce['price']>0].reset_index(drop=True)"
   ]
  },
  {
   "cell_type": "code",
   "execution_count": 50,
   "id": "4706409d",
   "metadata": {},
   "outputs": [
    {
     "data": {
      "text/plain": [
       "(998227, 9)"
      ]
     },
     "execution_count": 50,
     "metadata": {},
     "output_type": "execute_result"
    }
   ],
   "source": [
    "df_ecommerce.shape"
   ]
  },
  {
   "cell_type": "markdown",
   "id": "317199bf",
   "metadata": {},
   "source": [
    "## Creating new dataframe"
   ]
  },
  {
   "cell_type": "code",
   "execution_count": 51,
   "id": "0d3ad38b",
   "metadata": {},
   "outputs": [],
   "source": [
    "df_copy = df_ecommerce.copy()"
   ]
  },
  {
   "cell_type": "code",
   "execution_count": 52,
   "id": "6beb8e6b",
   "metadata": {},
   "outputs": [
    {
     "data": {
      "text/plain": [
       "(998227, 9)"
      ]
     },
     "execution_count": 52,
     "metadata": {},
     "output_type": "execute_result"
    }
   ],
   "source": [
    "df_copy.shape"
   ]
  },
  {
   "cell_type": "markdown",
   "id": "2fe0919f",
   "metadata": {},
   "source": [
    "# fill null values"
   ]
  },
  {
   "cell_type": "code",
   "execution_count": 53,
   "id": "10dc356c",
   "metadata": {},
   "outputs": [],
   "source": [
    "df_copy['category_code'] = df_copy['category_code'].fillna('unknown')\n",
    "df_copy['brand'] = df_copy['brand'].fillna('unknown')"
   ]
  },
  {
   "cell_type": "code",
   "execution_count": 54,
   "id": "31a256e6",
   "metadata": {},
   "outputs": [],
   "source": [
    "df_copy[['category','sub_category','sub_sub_category']]=df_copy['category_code'].str.split('.', n=2, expand=True)"
   ]
  },
  {
   "cell_type": "code",
   "execution_count": 55,
   "id": "7b7d28d7",
   "metadata": {},
   "outputs": [
    {
     "data": {
      "text/plain": [
       "event_time               0\n",
       "event_type               0\n",
       "product_id               0\n",
       "category_id              0\n",
       "category_code            0\n",
       "brand                    0\n",
       "price                    0\n",
       "user_id                  0\n",
       "user_session             6\n",
       "category                 0\n",
       "sub_category         84445\n",
       "sub_sub_category    272321\n",
       "dtype: int64"
      ]
     },
     "execution_count": 55,
     "metadata": {},
     "output_type": "execute_result"
    }
   ],
   "source": [
    "df_copy.isnull().sum()"
   ]
  },
  {
   "cell_type": "code",
   "execution_count": 58,
   "id": "9abb9056",
   "metadata": {},
   "outputs": [],
   "source": [
    "df_copy['sub_category'] = df_copy['sub_category'].fillna('unknown')\n",
    "df_copy['sub_sub_category'] = df_copy['sub_sub_category'].fillna('unknown')"
   ]
  },
  {
   "cell_type": "code",
   "execution_count": 59,
   "id": "c924ac5a",
   "metadata": {},
   "outputs": [
    {
     "data": {
      "text/plain": [
       "event_time          0\n",
       "event_type          0\n",
       "product_id          0\n",
       "category_id         0\n",
       "category_code       0\n",
       "brand               0\n",
       "price               0\n",
       "user_id             0\n",
       "user_session        6\n",
       "category            0\n",
       "sub_category        0\n",
       "sub_sub_category    0\n",
       "dtype: int64"
      ]
     },
     "execution_count": 59,
     "metadata": {},
     "output_type": "execute_result"
    }
   ],
   "source": [
    "df_copy.isnull().sum()"
   ]
  },
  {
   "cell_type": "code",
   "execution_count": 60,
   "id": "1466fbdf",
   "metadata": {},
   "outputs": [
    {
     "name": "stdout",
     "output_type": "stream",
     "text": [
      "['apparel' 'electronics' 'appliances' 'construction' 'computers' 'unknown'\n",
      " 'auto' 'sport' 'medicine' 'furniture' 'kids' 'accessories' 'country_yard'\n",
      " 'stationery']\n",
      "['shoes' 'audio' 'kitchen' 'scarf' 'tools' 'desktop' 'clocks'\n",
      " 'environment' 'unknown' 'personal' 'accessories' 'bicycle' 'components'\n",
      " 'bedroom' 'toys' 'peripherals' 'ski' 'costume' 'skates' 'tennis'\n",
      " 'trainer' 'shorts' 'wallet' 'notebook' 'sewing_machine' 'lawn_mower'\n",
      " 'ebooks' 'living_room' 'video' 'swing' 'camera' 'universal' 'bag'\n",
      " 'underwear' 'snowboard' 'jumper' 'shirt' 'bathroom' 'trousers' 'sock'\n",
      " 'jeans' 'cultivator' 'ironing_board' 'tablet' 'furniture' 'pajamas'\n",
      " 'tshirt' 'umbrella' 'dolls' 'smartphone' 'carriage' 'telephone' 'skirt'\n",
      " 'glove' 'cartrige' 'fmcg' 'diving' 'belt' 'jacket' 'dress' 'iron']\n",
      "['slipons' 'headphone' 'refrigerators' 'unknown' 'light' 'washer' 'vacuum'\n",
      " 'sandals' 'toster' 'hair_cutter' 'compressor' 'massager' 'drill' 'cooler'\n",
      " 'welding' 'hob' 'tonometer' 'bed' 'oven' 'alarm' 'printer' 'faucet'\n",
      " 'keds' 'table' 'blanket' 'mouse' 'air_conditioner' 'hood' 'motherboard'\n",
      " 'climate' 'power_supply' 'chair' 'sofa' 'moccasins' 'cabinet' 'projector'\n",
      " 'video' 'mixer' 'bath' 'air_heater' 'saw' 'blender' 'grill' 'generator'\n",
      " 'scales' 'dishwasher' 'tv' 'juicer' 'step_ins' 'kettle' 'subwoofer'\n",
      " 'hammok' 'screw' 'photo' 'espadrilles' 'microphone' 'coffee_grinder'\n",
      " 'videoregister' 'videocards' 'music_tools.piano' 'ballet_shoes' 'winch'\n",
      " 'radar' 'camera' 'acoustic' 'pump' 'monitor' 'pillow' 'parktronic' 'cpu'\n",
      " 'painting' 'fryer' 'axe' 'meat_grinder' 'cdrw' 'shelving' 'memory'\n",
      " 'diapers' 'anti_freeze' 'soldering' 'bench' 'toilet' 'hdd' 'water_heater'\n",
      " 'keyboard' 'fan' 'microwave' 'player' 'steam_cooker' 'coffee_machine']\n"
     ]
    }
   ],
   "source": [
    "print(df_copy['category'].unique())\n",
    "print(df_copy['sub_category'].unique())\n",
    "print(df_copy['sub_sub_category'].unique())"
   ]
  },
  {
   "cell_type": "markdown",
   "id": "cfc7a7ce",
   "metadata": {},
   "source": [
    "# Convert time fields"
   ]
  },
  {
   "cell_type": "code",
   "execution_count": 63,
   "id": "147a6bee",
   "metadata": {},
   "outputs": [],
   "source": [
    "df_copy['event_time'] = pd.to_datetime(df_copy['event_time'])\n",
    "df_copy['event_hour'] = df_copy['event_time'].dt.hour\n",
    "df_copy['event_dayofweek'] = df_copy['event_time'].dt.dayofweek"
   ]
  },
  {
   "cell_type": "code",
   "execution_count": 64,
   "id": "9adf0d1f",
   "metadata": {},
   "outputs": [
    {
     "data": {
      "text/html": [
       "<div>\n",
       "<style scoped>\n",
       "    .dataframe tbody tr th:only-of-type {\n",
       "        vertical-align: middle;\n",
       "    }\n",
       "\n",
       "    .dataframe tbody tr th {\n",
       "        vertical-align: top;\n",
       "    }\n",
       "\n",
       "    .dataframe thead th {\n",
       "        text-align: right;\n",
       "    }\n",
       "</style>\n",
       "<table border=\"1\" class=\"dataframe\">\n",
       "  <thead>\n",
       "    <tr style=\"text-align: right;\">\n",
       "      <th></th>\n",
       "      <th>event_time</th>\n",
       "      <th>event_type</th>\n",
       "      <th>product_id</th>\n",
       "      <th>category_id</th>\n",
       "      <th>category_code</th>\n",
       "      <th>brand</th>\n",
       "      <th>price</th>\n",
       "      <th>user_id</th>\n",
       "      <th>user_session</th>\n",
       "      <th>category</th>\n",
       "      <th>sub_category</th>\n",
       "      <th>sub_sub_category</th>\n",
       "      <th>event_hour</th>\n",
       "      <th>event_dayofweek</th>\n",
       "    </tr>\n",
       "  </thead>\n",
       "  <tbody>\n",
       "    <tr>\n",
       "      <th>0</th>\n",
       "      <td>2020-04-01 00:00:00+00:00</td>\n",
       "      <td>view</td>\n",
       "      <td>1201465</td>\n",
       "      <td>2232732101407408685</td>\n",
       "      <td>apparel.shoes.slipons</td>\n",
       "      <td>samsung</td>\n",
       "      <td>230.38</td>\n",
       "      <td>568984877</td>\n",
       "      <td>e2456cef-2d4f-42b9-a53a-8893cb0c6851</td>\n",
       "      <td>apparel</td>\n",
       "      <td>shoes</td>\n",
       "      <td>slipons</td>\n",
       "      <td>0</td>\n",
       "      <td>2</td>\n",
       "    </tr>\n",
       "    <tr>\n",
       "      <th>1</th>\n",
       "      <td>2020-04-01 00:00:01+00:00</td>\n",
       "      <td>view</td>\n",
       "      <td>1307156</td>\n",
       "      <td>2053013554658804075</td>\n",
       "      <td>electronics.audio.headphone</td>\n",
       "      <td>apple</td>\n",
       "      <td>1352.67</td>\n",
       "      <td>514955500</td>\n",
       "      <td>38f43134-de83-4710-ae0a-326677d292c6</td>\n",
       "      <td>electronics</td>\n",
       "      <td>audio</td>\n",
       "      <td>headphone</td>\n",
       "      <td>0</td>\n",
       "      <td>2</td>\n",
       "    </tr>\n",
       "    <tr>\n",
       "      <th>2</th>\n",
       "      <td>2020-04-01 00:00:01+00:00</td>\n",
       "      <td>view</td>\n",
       "      <td>1480477</td>\n",
       "      <td>2053013563835941749</td>\n",
       "      <td>appliances.kitchen.refrigerators</td>\n",
       "      <td>apple</td>\n",
       "      <td>1184.05</td>\n",
       "      <td>633645770</td>\n",
       "      <td>16aba270-b3c2-4b23-be0a-b7c80bc9da9e</td>\n",
       "      <td>appliances</td>\n",
       "      <td>kitchen</td>\n",
       "      <td>refrigerators</td>\n",
       "      <td>0</td>\n",
       "      <td>2</td>\n",
       "    </tr>\n",
       "    <tr>\n",
       "      <th>3</th>\n",
       "      <td>2020-04-01 00:00:02+00:00</td>\n",
       "      <td>view</td>\n",
       "      <td>1307050</td>\n",
       "      <td>2053013554658804075</td>\n",
       "      <td>electronics.audio.headphone</td>\n",
       "      <td>apple</td>\n",
       "      <td>1724.34</td>\n",
       "      <td>564933778</td>\n",
       "      <td>05b443bd-e68a-4d72-b971-80bd31109cb8</td>\n",
       "      <td>electronics</td>\n",
       "      <td>audio</td>\n",
       "      <td>headphone</td>\n",
       "      <td>0</td>\n",
       "      <td>2</td>\n",
       "    </tr>\n",
       "    <tr>\n",
       "      <th>4</th>\n",
       "      <td>2020-04-01 00:00:03+00:00</td>\n",
       "      <td>view</td>\n",
       "      <td>9500109</td>\n",
       "      <td>2232732104175649385</td>\n",
       "      <td>apparel.scarf</td>\n",
       "      <td>defender</td>\n",
       "      <td>25.05</td>\n",
       "      <td>530206135</td>\n",
       "      <td>e3c1fb4b-0a7e-457d-a0cf-5d1479e9aafc</td>\n",
       "      <td>apparel</td>\n",
       "      <td>scarf</td>\n",
       "      <td>unknown</td>\n",
       "      <td>0</td>\n",
       "      <td>2</td>\n",
       "    </tr>\n",
       "  </tbody>\n",
       "</table>\n",
       "</div>"
      ],
      "text/plain": [
       "                 event_time event_type  product_id          category_id  \\\n",
       "0 2020-04-01 00:00:00+00:00       view     1201465  2232732101407408685   \n",
       "1 2020-04-01 00:00:01+00:00       view     1307156  2053013554658804075   \n",
       "2 2020-04-01 00:00:01+00:00       view     1480477  2053013563835941749   \n",
       "3 2020-04-01 00:00:02+00:00       view     1307050  2053013554658804075   \n",
       "4 2020-04-01 00:00:03+00:00       view     9500109  2232732104175649385   \n",
       "\n",
       "                      category_code     brand    price    user_id  \\\n",
       "0             apparel.shoes.slipons   samsung   230.38  568984877   \n",
       "1       electronics.audio.headphone     apple  1352.67  514955500   \n",
       "2  appliances.kitchen.refrigerators     apple  1184.05  633645770   \n",
       "3       electronics.audio.headphone     apple  1724.34  564933778   \n",
       "4                     apparel.scarf  defender    25.05  530206135   \n",
       "\n",
       "                           user_session     category sub_category  \\\n",
       "0  e2456cef-2d4f-42b9-a53a-8893cb0c6851      apparel        shoes   \n",
       "1  38f43134-de83-4710-ae0a-326677d292c6  electronics        audio   \n",
       "2  16aba270-b3c2-4b23-be0a-b7c80bc9da9e   appliances      kitchen   \n",
       "3  05b443bd-e68a-4d72-b971-80bd31109cb8  electronics        audio   \n",
       "4  e3c1fb4b-0a7e-457d-a0cf-5d1479e9aafc      apparel        scarf   \n",
       "\n",
       "  sub_sub_category  event_hour  event_dayofweek  \n",
       "0          slipons           0                2  \n",
       "1        headphone           0                2  \n",
       "2    refrigerators           0                2  \n",
       "3        headphone           0                2  \n",
       "4          unknown           0                2  "
      ]
     },
     "execution_count": 64,
     "metadata": {},
     "output_type": "execute_result"
    }
   ],
   "source": [
    "df_copy.head()"
   ]
  },
  {
   "cell_type": "code",
   "execution_count": 68,
   "id": "fe9f5eba",
   "metadata": {},
   "outputs": [
    {
     "name": "stdout",
     "output_type": "stream",
     "text": [
      "<class 'pandas.core.frame.DataFrame'>\n",
      "RangeIndex: 998227 entries, 0 to 998226\n",
      "Data columns (total 14 columns):\n",
      " #   Column            Non-Null Count   Dtype              \n",
      "---  ------            --------------   -----              \n",
      " 0   event_time        998227 non-null  datetime64[ns, UTC]\n",
      " 1   event_type        998227 non-null  object             \n",
      " 2   product_id        998227 non-null  int64              \n",
      " 3   category_id       998227 non-null  int64              \n",
      " 4   category_code     998227 non-null  object             \n",
      " 5   brand             998227 non-null  object             \n",
      " 6   price             998227 non-null  float64            \n",
      " 7   user_id           998227 non-null  int64              \n",
      " 8   user_session      998221 non-null  object             \n",
      " 9   category          998227 non-null  object             \n",
      " 10  sub_category      998227 non-null  object             \n",
      " 11  sub_sub_category  998227 non-null  object             \n",
      " 12  event_hour        998227 non-null  int64              \n",
      " 13  event_dayofweek   998227 non-null  int64              \n",
      "dtypes: datetime64[ns, UTC](1), float64(1), int64(5), object(7)\n",
      "memory usage: 106.6+ MB\n"
     ]
    }
   ],
   "source": [
    "df_copy.info()"
   ]
  },
  {
   "cell_type": "markdown",
   "id": "821ce02e",
   "metadata": {},
   "source": [
    "# 7.Exploratory Data Analysis (EDA)"
   ]
  },
  {
   "cell_type": "code",
   "execution_count": 75,
   "id": "1a731a6c",
   "metadata": {},
   "outputs": [
    {
     "data": {
      "image/png": "[encoded data removed]",
      "text/plain": [
       "<Figure size 640x480 with 1 Axes>"
      ]
     },
     "metadata": {},
     "output_type": "display_data"
    },
    {
     "name": "stdout",
     "output_type": "stream",
     "text": [
      "view        91.791246\n",
      "cart         6.183163\n",
      "purchase     2.025591\n",
      "Name: event_type, dtype: float64\n"
     ]
    }
   ],
   "source": [
    "# Event Type Distribution\n",
    "sns.countplot(data=df_copy, x='event_type', order=df_copy['event_type'].value_counts(normalize=True).index)\n",
    "plt.title('Event Type Distribution')\n",
    "plt.show()\n",
    "print(df_copy['event_type'].value_counts(normalize=True)*100)"
   ]
  },
  {
   "cell_type": "code",
   "execution_count": 78,
   "id": "e83a823b",
   "metadata": {},
   "outputs": [
    {
     "data": {
      "image/png": "[encoded data removed]",
      "text/plain": [
       "<Figure size 640x480 with 1 Axes>"
      ]
     },
     "metadata": {},
     "output_type": "display_data"
    }
   ],
   "source": [
    "# Popular Categories\n",
    "sns.countplot(data=df_copy, y='category', order=df_copy['category'].value_counts().head(10).index)\n",
    "plt.title('Top 10 Main Categories')\n",
    "plt.show()"
   ]
  },
  {
   "cell_type": "code",
   "execution_count": 81,
   "id": "6cf5819e",
   "metadata": {},
   "outputs": [
    {
     "data": {
      "image/png": "[encoded data removed]",
      "text/plain": [
       "<Figure size 640x480 with 1 Axes>"
      ]
     },
     "metadata": {},
     "output_type": "display_data"
    }
   ],
   "source": [
    "# Price Distribution\n",
    "sns.histplot(df_copy['price'], bins=50, kde=True)\n",
    "plt.title('Product Price Distribution')\n",
    "plt.xlim(0, df_copy['price'].quantile(0.95))\n",
    "plt.show()"
   ]
  },
  {
   "cell_type": "code",
   "execution_count": 82,
   "id": "4faedc06",
   "metadata": {},
   "outputs": [
    {
     "data": {
      "image/png": "[encoded data removed]",
      "text/plain": [
       "<Figure size 640x480 with 1 Axes>"
      ]
     },
     "metadata": {},
     "output_type": "display_data"
    }
   ],
   "source": [
    "# User Activity by Hour\n",
    "df_copy['event_hour'] = pd.to_datetime(df_copy['event_time']).dt.hour\n",
    "sns.countplot(data=df_copy, x='event_hour')\n",
    "plt.title('User Activity by Hour')\n",
    "plt.show()"
   ]
  },
  {
   "cell_type": "markdown",
   "id": "947020b8",
   "metadata": {},
   "source": [
    "# 8.Feature Engineering & Selection"
   ]
  },
  {
   "cell_type": "code",
   "execution_count": 115,
   "id": "93629169",
   "metadata": {},
   "outputs": [
    {
     "data": {
      "text/plain": [
       "count    998227.000000\n",
       "mean        312.434374\n",
       "std         369.180118\n",
       "min           0.770000\n",
       "25%          69.470000\n",
       "50%         190.200000\n",
       "75%         398.720000\n",
       "max        2574.070000\n",
       "Name: price, dtype: float64"
      ]
     },
     "execution_count": 115,
     "metadata": {},
     "output_type": "execute_result"
    }
   ],
   "source": [
    "df_ecommerce['price'].describe()"
   ]
  },
  {
   "cell_type": "code",
   "execution_count": 116,
   "id": "5a9ac1ca",
   "metadata": {},
   "outputs": [],
   "source": [
    "df_encoded = pd.get_dummies(df_copy, columns=[\n",
    "    'event_type', 'brand',\n",
    "    'category', 'sub_category', 'sub_sub_category'\n",
    "], drop_first=True)\n"
   ]
  },
  {
   "cell_type": "code",
   "execution_count": 117,
   "id": "6c65972d",
   "metadata": {},
   "outputs": [],
   "source": [
    "df_copy['price'] = np.where(df_copy['price'] > df_copy['price'].quantile(0.95),\n",
    "                               df_copy['price'].quantile(0.95),\n",
    "                               df_copy['price'])"
   ]
  },
  {
   "cell_type": "code",
   "execution_count": 118,
   "id": "74959274",
   "metadata": {},
   "outputs": [
    {
     "data": {
      "text/plain": [
       "count    998227.000000\n",
       "mean        287.728061\n",
       "std         284.032280\n",
       "min           0.770000\n",
       "25%          69.470000\n",
       "50%         190.200000\n",
       "75%         398.720000\n",
       "max        1016.240000\n",
       "Name: price, dtype: float64"
      ]
     },
     "execution_count": 118,
     "metadata": {},
     "output_type": "execute_result"
    }
   ],
   "source": [
    "df_copy['price'].describe()"
   ]
  },
  {
   "cell_type": "code",
   "execution_count": 141,
   "id": "826d4ce8",
   "metadata": {},
   "outputs": [],
   "source": [
    "# Aggregate per User-Session\n",
    "agg_df = df_copy.groupby(['user_id', 'user_session']).agg({\n",
    "    'price': ['mean', 'sum'],\n",
    "    'event_type': 'nunique',\n",
    "    'product_id':'nunique',\n",
    "     'brand': 'nunique',\n",
    "    'category': 'nunique',\n",
    "    'sub_category': 'nunique', \n",
    "    'sub_sub_category': 'nunique',\n",
    "    'event_hour': 'mean'\n",
    "}).reset_index()\n",
    "agg_df.columns = ['_'.join(col).strip('_') for col in agg_df.columns.values]"
   ]
  },
  {
   "cell_type": "code",
   "execution_count": 142,
   "id": "f6f2b7ef",
   "metadata": {},
   "outputs": [
    {
     "data": {
      "text/plain": [
       "array([2], dtype=int64)"
      ]
     },
     "execution_count": 142,
     "metadata": {},
     "output_type": "execute_result"
    }
   ],
   "source": [
    "df_copy['event_dayofweek'].unique()"
   ]
  },
  {
   "cell_type": "code",
   "execution_count": 143,
   "id": "3386e1b3",
   "metadata": {},
   "outputs": [
    {
     "data": {
      "text/html": [
       "<div>\n",
       "<style scoped>\n",
       "    .dataframe tbody tr th:only-of-type {\n",
       "        vertical-align: middle;\n",
       "    }\n",
       "\n",
       "    .dataframe tbody tr th {\n",
       "        vertical-align: top;\n",
       "    }\n",
       "\n",
       "    .dataframe thead th {\n",
       "        text-align: right;\n",
       "    }\n",
       "</style>\n",
       "<table border=\"1\" class=\"dataframe\">\n",
       "  <thead>\n",
       "    <tr style=\"text-align: right;\">\n",
       "      <th></th>\n",
       "      <th>user_id</th>\n",
       "      <th>user_session</th>\n",
       "      <th>price_mean</th>\n",
       "      <th>price_sum</th>\n",
       "      <th>event_type_nunique</th>\n",
       "      <th>product_id_nunique</th>\n",
       "      <th>brand_nunique</th>\n",
       "      <th>category_nunique</th>\n",
       "      <th>sub_category_nunique</th>\n",
       "      <th>sub_sub_category_nunique</th>\n",
       "      <th>event_hour_mean</th>\n",
       "    </tr>\n",
       "  </thead>\n",
       "  <tbody>\n",
       "    <tr>\n",
       "      <th>0</th>\n",
       "      <td>104655840</td>\n",
       "      <td>be91b567-d210-482b-94d1-23b36da3575f</td>\n",
       "      <td>9.910000</td>\n",
       "      <td>9.91</td>\n",
       "      <td>1</td>\n",
       "      <td>1</td>\n",
       "      <td>1</td>\n",
       "      <td>1</td>\n",
       "      <td>1</td>\n",
       "      <td>1</td>\n",
       "      <td>13.0</td>\n",
       "    </tr>\n",
       "    <tr>\n",
       "      <th>1</th>\n",
       "      <td>128968633</td>\n",
       "      <td>18c772dc-1de1-4109-b607-35f31871753e</td>\n",
       "      <td>195.326111</td>\n",
       "      <td>3515.87</td>\n",
       "      <td>1</td>\n",
       "      <td>18</td>\n",
       "      <td>5</td>\n",
       "      <td>2</td>\n",
       "      <td>3</td>\n",
       "      <td>3</td>\n",
       "      <td>12.0</td>\n",
       "    </tr>\n",
       "    <tr>\n",
       "      <th>2</th>\n",
       "      <td>176250879</td>\n",
       "      <td>c58645b7-cb20-435a-a103-9cd583080670</td>\n",
       "      <td>420.800000</td>\n",
       "      <td>1262.40</td>\n",
       "      <td>1</td>\n",
       "      <td>3</td>\n",
       "      <td>1</td>\n",
       "      <td>1</td>\n",
       "      <td>1</td>\n",
       "      <td>1</td>\n",
       "      <td>4.0</td>\n",
       "    </tr>\n",
       "    <tr>\n",
       "      <th>3</th>\n",
       "      <td>178539771</td>\n",
       "      <td>0550961e-a29b-4101-9eb8-22f0b89288da</td>\n",
       "      <td>566.270000</td>\n",
       "      <td>566.27</td>\n",
       "      <td>1</td>\n",
       "      <td>1</td>\n",
       "      <td>1</td>\n",
       "      <td>1</td>\n",
       "      <td>1</td>\n",
       "      <td>1</td>\n",
       "      <td>13.0</td>\n",
       "    </tr>\n",
       "    <tr>\n",
       "      <th>4</th>\n",
       "      <td>208005640</td>\n",
       "      <td>385ab386-2225-4c33-ba5a-1dfd68c33033</td>\n",
       "      <td>281.057500</td>\n",
       "      <td>1124.23</td>\n",
       "      <td>1</td>\n",
       "      <td>4</td>\n",
       "      <td>3</td>\n",
       "      <td>1</td>\n",
       "      <td>1</td>\n",
       "      <td>1</td>\n",
       "      <td>6.0</td>\n",
       "    </tr>\n",
       "  </tbody>\n",
       "</table>\n",
       "</div>"
      ],
      "text/plain": [
       "     user_id                          user_session  price_mean  price_sum  \\\n",
       "0  104655840  be91b567-d210-482b-94d1-23b36da3575f    9.910000       9.91   \n",
       "1  128968633  18c772dc-1de1-4109-b607-35f31871753e  195.326111    3515.87   \n",
       "2  176250879  c58645b7-cb20-435a-a103-9cd583080670  420.800000    1262.40   \n",
       "3  178539771  0550961e-a29b-4101-9eb8-22f0b89288da  566.270000     566.27   \n",
       "4  208005640  385ab386-2225-4c33-ba5a-1dfd68c33033  281.057500    1124.23   \n",
       "\n",
       "   event_type_nunique  product_id_nunique  brand_nunique  category_nunique  \\\n",
       "0                   1                   1              1                 1   \n",
       "1                   1                  18              5                 2   \n",
       "2                   1                   3              1                 1   \n",
       "3                   1                   1              1                 1   \n",
       "4                   1                   4              3                 1   \n",
       "\n",
       "   sub_category_nunique  sub_sub_category_nunique  event_hour_mean  \n",
       "0                     1                         1             13.0  \n",
       "1                     3                         3             12.0  \n",
       "2                     1                         1              4.0  \n",
       "3                     1                         1             13.0  \n",
       "4                     1                         1              6.0  "
      ]
     },
     "execution_count": 143,
     "metadata": {},
     "output_type": "execute_result"
    }
   ],
   "source": [
    "agg_df.head(5)"
   ]
  },
  {
   "cell_type": "code",
   "execution_count": 144,
   "id": "f65782ec",
   "metadata": {},
   "outputs": [
    {
     "data": {
      "text/html": [
       "<div>\n",
       "<style scoped>\n",
       "    .dataframe tbody tr th:only-of-type {\n",
       "        vertical-align: middle;\n",
       "    }\n",
       "\n",
       "    .dataframe tbody tr th {\n",
       "        vertical-align: top;\n",
       "    }\n",
       "\n",
       "    .dataframe thead th {\n",
       "        text-align: right;\n",
       "    }\n",
       "</style>\n",
       "<table border=\"1\" class=\"dataframe\">\n",
       "  <thead>\n",
       "    <tr style=\"text-align: right;\">\n",
       "      <th></th>\n",
       "      <th>user_id</th>\n",
       "      <th>price_mean</th>\n",
       "      <th>price_sum</th>\n",
       "      <th>event_type_nunique</th>\n",
       "      <th>product_id_nunique</th>\n",
       "      <th>brand_nunique</th>\n",
       "      <th>category_nunique</th>\n",
       "      <th>sub_category_nunique</th>\n",
       "      <th>sub_sub_category_nunique</th>\n",
       "      <th>event_hour_mean</th>\n",
       "    </tr>\n",
       "  </thead>\n",
       "  <tbody>\n",
       "    <tr>\n",
       "      <th>user_id</th>\n",
       "      <td>1.000000</td>\n",
       "      <td>-0.001188</td>\n",
       "      <td>-0.010822</td>\n",
       "      <td>0.010666</td>\n",
       "      <td>-0.009455</td>\n",
       "      <td>-0.023618</td>\n",
       "      <td>-0.001018</td>\n",
       "      <td>0.003129</td>\n",
       "      <td>-0.000507</td>\n",
       "      <td>0.010234</td>\n",
       "    </tr>\n",
       "    <tr>\n",
       "      <th>price_mean</th>\n",
       "      <td>-0.001188</td>\n",
       "      <td>1.000000</td>\n",
       "      <td>0.347394</td>\n",
       "      <td>-0.044011</td>\n",
       "      <td>-0.015941</td>\n",
       "      <td>-0.100884</td>\n",
       "      <td>-0.073442</td>\n",
       "      <td>-0.074502</td>\n",
       "      <td>-0.050036</td>\n",
       "      <td>0.028310</td>\n",
       "    </tr>\n",
       "    <tr>\n",
       "      <th>price_sum</th>\n",
       "      <td>-0.010822</td>\n",
       "      <td>0.347394</td>\n",
       "      <td>1.000000</td>\n",
       "      <td>0.141691</td>\n",
       "      <td>0.558125</td>\n",
       "      <td>0.367898</td>\n",
       "      <td>0.199706</td>\n",
       "      <td>0.205034</td>\n",
       "      <td>0.241660</td>\n",
       "      <td>0.015518</td>\n",
       "    </tr>\n",
       "    <tr>\n",
       "      <th>event_type_nunique</th>\n",
       "      <td>0.010666</td>\n",
       "      <td>-0.044011</td>\n",
       "      <td>0.141691</td>\n",
       "      <td>1.000000</td>\n",
       "      <td>0.017720</td>\n",
       "      <td>0.009467</td>\n",
       "      <td>-0.013822</td>\n",
       "      <td>-0.015706</td>\n",
       "      <td>-0.009453</td>\n",
       "      <td>-0.004437</td>\n",
       "    </tr>\n",
       "    <tr>\n",
       "      <th>product_id_nunique</th>\n",
       "      <td>-0.009455</td>\n",
       "      <td>-0.015941</td>\n",
       "      <td>0.558125</td>\n",
       "      <td>0.017720</td>\n",
       "      <td>1.000000</td>\n",
       "      <td>0.625141</td>\n",
       "      <td>0.367867</td>\n",
       "      <td>0.392976</td>\n",
       "      <td>0.388538</td>\n",
       "      <td>0.000161</td>\n",
       "    </tr>\n",
       "    <tr>\n",
       "      <th>brand_nunique</th>\n",
       "      <td>-0.023618</td>\n",
       "      <td>-0.100884</td>\n",
       "      <td>0.367898</td>\n",
       "      <td>0.009467</td>\n",
       "      <td>0.625141</td>\n",
       "      <td>1.000000</td>\n",
       "      <td>0.609145</td>\n",
       "      <td>0.630861</td>\n",
       "      <td>0.613669</td>\n",
       "      <td>-0.001113</td>\n",
       "    </tr>\n",
       "    <tr>\n",
       "      <th>category_nunique</th>\n",
       "      <td>-0.001018</td>\n",
       "      <td>-0.073442</td>\n",
       "      <td>0.199706</td>\n",
       "      <td>-0.013822</td>\n",
       "      <td>0.367867</td>\n",
       "      <td>0.609145</td>\n",
       "      <td>1.000000</td>\n",
       "      <td>0.960738</td>\n",
       "      <td>0.871694</td>\n",
       "      <td>-0.004524</td>\n",
       "    </tr>\n",
       "    <tr>\n",
       "      <th>sub_category_nunique</th>\n",
       "      <td>0.003129</td>\n",
       "      <td>-0.074502</td>\n",
       "      <td>0.205034</td>\n",
       "      <td>-0.015706</td>\n",
       "      <td>0.392976</td>\n",
       "      <td>0.630861</td>\n",
       "      <td>0.960738</td>\n",
       "      <td>1.000000</td>\n",
       "      <td>0.882881</td>\n",
       "      <td>-0.004602</td>\n",
       "    </tr>\n",
       "    <tr>\n",
       "      <th>sub_sub_category_nunique</th>\n",
       "      <td>-0.000507</td>\n",
       "      <td>-0.050036</td>\n",
       "      <td>0.241660</td>\n",
       "      <td>-0.009453</td>\n",
       "      <td>0.388538</td>\n",
       "      <td>0.613669</td>\n",
       "      <td>0.871694</td>\n",
       "      <td>0.882881</td>\n",
       "      <td>1.000000</td>\n",
       "      <td>-0.001870</td>\n",
       "    </tr>\n",
       "    <tr>\n",
       "      <th>event_hour_mean</th>\n",
       "      <td>0.010234</td>\n",
       "      <td>0.028310</td>\n",
       "      <td>0.015518</td>\n",
       "      <td>-0.004437</td>\n",
       "      <td>0.000161</td>\n",
       "      <td>-0.001113</td>\n",
       "      <td>-0.004524</td>\n",
       "      <td>-0.004602</td>\n",
       "      <td>-0.001870</td>\n",
       "      <td>1.000000</td>\n",
       "    </tr>\n",
       "  </tbody>\n",
       "</table>\n",
       "</div>"
      ],
      "text/plain": [
       "                           user_id  price_mean  price_sum  event_type_nunique  \\\n",
       "user_id                   1.000000   -0.001188  -0.010822            0.010666   \n",
       "price_mean               -0.001188    1.000000   0.347394           -0.044011   \n",
       "price_sum                -0.010822    0.347394   1.000000            0.141691   \n",
       "event_type_nunique        0.010666   -0.044011   0.141691            1.000000   \n",
       "product_id_nunique       -0.009455   -0.015941   0.558125            0.017720   \n",
       "brand_nunique            -0.023618   -0.100884   0.367898            0.009467   \n",
       "category_nunique         -0.001018   -0.073442   0.199706           -0.013822   \n",
       "sub_category_nunique      0.003129   -0.074502   0.205034           -0.015706   \n",
       "sub_sub_category_nunique -0.000507   -0.050036   0.241660           -0.009453   \n",
       "event_hour_mean           0.010234    0.028310   0.015518           -0.004437   \n",
       "\n",
       "                          product_id_nunique  brand_nunique  category_nunique  \\\n",
       "user_id                            -0.009455      -0.023618         -0.001018   \n",
       "price_mean                         -0.015941      -0.100884         -0.073442   \n",
       "price_sum                           0.558125       0.367898          0.199706   \n",
       "event_type_nunique                  0.017720       0.009467         -0.013822   \n",
       "product_id_nunique                  1.000000       0.625141          0.367867   \n",
       "brand_nunique                       0.625141       1.000000          0.609145   \n",
       "category_nunique                    0.367867       0.609145          1.000000   \n",
       "sub_category_nunique                0.392976       0.630861          0.960738   \n",
       "sub_sub_category_nunique            0.388538       0.613669          0.871694   \n",
       "event_hour_mean                     0.000161      -0.001113         -0.004524   \n",
       "\n",
       "                          sub_category_nunique  sub_sub_category_nunique  \\\n",
       "user_id                               0.003129                 -0.000507   \n",
       "price_mean                           -0.074502                 -0.050036   \n",
       "price_sum                             0.205034                  0.241660   \n",
       "event_type_nunique                   -0.015706                 -0.009453   \n",
       "product_id_nunique                    0.392976                  0.388538   \n",
       "brand_nunique                         0.630861                  0.613669   \n",
       "category_nunique                      0.960738                  0.871694   \n",
       "sub_category_nunique                  1.000000                  0.882881   \n",
       "sub_sub_category_nunique              0.882881                  1.000000   \n",
       "event_hour_mean                      -0.004602                 -0.001870   \n",
       "\n",
       "                          event_hour_mean  \n",
       "user_id                          0.010234  \n",
       "price_mean                       0.028310  \n",
       "price_sum                        0.015518  \n",
       "event_type_nunique              -0.004437  \n",
       "product_id_nunique               0.000161  \n",
       "brand_nunique                   -0.001113  \n",
       "category_nunique                -0.004524  \n",
       "sub_category_nunique            -0.004602  \n",
       "sub_sub_category_nunique        -0.001870  \n",
       "event_hour_mean                  1.000000  "
      ]
     },
     "execution_count": 144,
     "metadata": {},
     "output_type": "execute_result"
    }
   ],
   "source": [
    "agg_df.corr()"
   ]
  },
  {
   "cell_type": "code",
   "execution_count": 145,
   "id": "cd737ab6",
   "metadata": {},
   "outputs": [
    {
     "data": {
      "text/plain": [
       "user_id                      -0.150147\n",
       "price_mean                    1.195069\n",
       "price_sum                    12.714275\n",
       "event_type_nunique            2.144438\n",
       "product_id_nunique          118.213598\n",
       "brand_nunique                 5.133143\n",
       "category_nunique              4.163261\n",
       "sub_category_nunique          5.659270\n",
       "sub_sub_category_nunique      5.609462\n",
       "event_hour_mean              -0.230850\n",
       "dtype: float64"
      ]
     },
     "execution_count": 145,
     "metadata": {},
     "output_type": "execute_result"
    }
   ],
   "source": [
    "agg_df.skew()"
   ]
  },
  {
   "cell_type": "markdown",
   "id": "a9d80381",
   "metadata": {},
   "source": [
    "# 9.Clustering & Evaluation"
   ]
  },
  {
   "cell_type": "code",
   "execution_count": 138,
   "id": "954d214f",
   "metadata": {},
   "outputs": [],
   "source": [
    "features = agg_df.drop(['user_id', 'user_session','brand_nunique','product_id_nunique'], axis=1)\n",
    "scaler = StandardScaler()\n",
    "X_scaled = scaler.fit_transform(features)"
   ]
  },
  {
   "cell_type": "code",
   "execution_count": 146,
   "id": "d3502730",
   "metadata": {},
   "outputs": [
    {
     "data": {
      "text/plain": [
       "Index(['user_id', 'user_session', 'price_mean', 'price_sum',\n",
       "       'event_type_nunique', 'product_id_nunique', 'brand_nunique',\n",
       "       'category_nunique', 'sub_category_nunique', 'sub_sub_category_nunique',\n",
       "       'event_hour_mean'],\n",
       "      dtype='object')"
      ]
     },
     "execution_count": 146,
     "metadata": {},
     "output_type": "execute_result"
    }
   ],
   "source": [
    "agg_df.columns"
   ]
  },
  {
   "cell_type": "code",
   "execution_count": 155,
   "id": "9453e164",
   "metadata": {},
   "outputs": [],
   "source": [
    "features = ['price_mean', 'product_id_nunique', 'brand_nunique', 'event_type_nunique']\n",
    "scaler = StandardScaler()\n",
    "scaled_data = scaler.fit_transform(agg_df[features])"
   ]
  },
  {
   "cell_type": "markdown",
   "id": "feb696fc",
   "metadata": {},
   "source": [
    "# Evaluation of model"
   ]
  },
  {
   "cell_type": "code",
   "execution_count": 156,
   "id": "d70a29da",
   "metadata": {},
   "outputs": [
    {
     "data": {
      "image/png": "[encoded data removed]",
      "text/plain": [
       "<Figure size 640x480 with 1 Axes>"
      ]
     },
     "metadata": {},
     "output_type": "display_data"
    }
   ],
   "source": [
    "# Elbow Method\n",
    "inertia = []\n",
    "for k in range(1, 10):\n",
    "    kmeans = KMeans(n_clusters=k, random_state=42, init='k-means++',)\n",
    "    kmeans.fit(scaled_data)\n",
    "    inertia.append(kmeans.inertia_)\n",
    "\n",
    "plt.plot(range(1, 10), inertia, marker='o')\n",
    "plt.title('Elbow Method')\n",
    "plt.xlabel('Clusters')\n",
    "plt.ylabel('Inertia')\n",
    "plt.show()"
   ]
  },
  {
   "cell_type": "code",
   "execution_count": 164,
   "id": "e58ec393",
   "metadata": {},
   "outputs": [],
   "source": [
    "kmeans = KMeans(n_clusters=4, random_state=42)\n",
    "agg_df['cluster'] = kmeans.fit_predict(scaled_data)"
   ]
  },
  {
   "cell_type": "code",
   "execution_count": 165,
   "id": "3a5b91e8",
   "metadata": {},
   "outputs": [
    {
     "name": "stdout",
     "output_type": "stream",
     "text": [
      "Silhouette Score: 0.51\n"
     ]
    }
   ],
   "source": [
    "# Silhouette Score\n",
    "score = silhouette_score(scaled_data, agg_df['cluster'])\n",
    "print(f'Silhouette Score: {score:.2f}')"
   ]
  },
  {
   "cell_type": "markdown",
   "id": "58f56802",
   "metadata": {},
   "source": [
    "# Tag clusters with original data"
   ]
  },
  {
   "cell_type": "code",
   "execution_count": 168,
   "id": "a8886b7c",
   "metadata": {},
   "outputs": [],
   "source": [
    "####################################################\n",
    "# Merge only cluster labels back to df_copy\n",
    "df_copy = df_copy.merge(agg_df[['user_id', 'user_session', 'cluster']], \n",
    "                        on=['user_id', 'user_session'], \n",
    "                        how='left')"
   ]
  },
  {
   "cell_type": "code",
   "execution_count": 169,
   "id": "51f73fea",
   "metadata": {},
   "outputs": [
    {
     "data": {
      "text/plain": [
       "0.0    345291\n",
       "3.0    292447\n",
       "2.0    238070\n",
       "1.0    122413\n",
       "Name: cluster, dtype: int64"
      ]
     },
     "execution_count": 169,
     "metadata": {},
     "output_type": "execute_result"
    }
   ],
   "source": [
    "df_copy['cluster'].value_counts()\n"
   ]
  },
  {
   "cell_type": "code",
   "execution_count": 170,
   "id": "bf97d3f4",
   "metadata": {},
   "outputs": [
    {
     "data": {
      "text/plain": [
       "0    107077\n",
       "1     33861\n",
       "2     28114\n",
       "3     13600\n",
       "Name: cluster, dtype: int64"
      ]
     },
     "execution_count": 170,
     "metadata": {},
     "output_type": "execute_result"
    }
   ],
   "source": [
    "agg_df['cluster'].value_counts()\n"
   ]
  },
  {
   "cell_type": "code",
   "execution_count": 171,
   "id": "ae05352f",
   "metadata": {},
   "outputs": [
    {
     "data": {
      "text/plain": [
       "cluster\n",
       "0.0    92994\n",
       "1.0    29683\n",
       "2.0    23634\n",
       "3.0    12852\n",
       "Name: user_id, dtype: int64"
      ]
     },
     "execution_count": 171,
     "metadata": {},
     "output_type": "execute_result"
    }
   ],
   "source": [
    "df_copy.groupby('cluster')['user_id'].nunique()"
   ]
  },
  {
   "cell_type": "code",
   "execution_count": 174,
   "id": "32ca9ad1",
   "metadata": {},
   "outputs": [
    {
     "data": {
      "text/plain": [
       "cluster\n",
       "0    92994\n",
       "1    29683\n",
       "2    23634\n",
       "3    12852\n",
       "Name: user_id, dtype: int64"
      ]
     },
     "execution_count": 174,
     "metadata": {},
     "output_type": "execute_result"
    }
   ],
   "source": [
    "agg_df.groupby('cluster')['user_id'].nunique()"
   ]
  },
  {
   "cell_type": "code",
   "execution_count": 172,
   "id": "45543e62",
   "metadata": {},
   "outputs": [
    {
     "data": {
      "text/plain": [
       "(182652, 12)"
      ]
     },
     "execution_count": 172,
     "metadata": {},
     "output_type": "execute_result"
    }
   ],
   "source": [
    "agg_df.shape"
   ]
  },
  {
   "cell_type": "code",
   "execution_count": 173,
   "id": "4effb5f1",
   "metadata": {},
   "outputs": [
    {
     "data": {
      "text/plain": [
       "(998227, 17)"
      ]
     },
     "execution_count": 173,
     "metadata": {},
     "output_type": "execute_result"
    }
   ],
   "source": [
    "df_copy.shape"
   ]
  },
  {
   "cell_type": "code",
   "execution_count": 182,
   "id": "6938a923",
   "metadata": {},
   "outputs": [],
   "source": [
    "cluster_summary = df_copy.groupby('cluster').agg({\n",
    "    'user_id': 'nunique',\n",
    "    'price': ['mean', 'sum'],\n",
    "    'category_code': 'nunique',\n",
    "    'brand': 'nunique',\n",
    "    'event_type': 'count'\n",
    "}).reset_index()"
   ]
  },
  {
   "cell_type": "code",
   "execution_count": 183,
   "id": "94830c6c",
   "metadata": {},
   "outputs": [
    {
     "data": {
      "text/html": [
       "<div>\n",
       "<style scoped>\n",
       "    .dataframe tbody tr th:only-of-type {\n",
       "        vertical-align: middle;\n",
       "    }\n",
       "\n",
       "    .dataframe tbody tr th {\n",
       "        vertical-align: top;\n",
       "    }\n",
       "\n",
       "    .dataframe thead tr th {\n",
       "        text-align: left;\n",
       "    }\n",
       "</style>\n",
       "<table border=\"1\" class=\"dataframe\">\n",
       "  <thead>\n",
       "    <tr>\n",
       "      <th></th>\n",
       "      <th>cluster</th>\n",
       "      <th>user_id</th>\n",
       "      <th colspan=\"2\" halign=\"left\">price</th>\n",
       "      <th>category_code</th>\n",
       "      <th>brand</th>\n",
       "      <th>event_type</th>\n",
       "    </tr>\n",
       "    <tr>\n",
       "      <th></th>\n",
       "      <th></th>\n",
       "      <th>nunique</th>\n",
       "      <th>mean</th>\n",
       "      <th>sum</th>\n",
       "      <th>nunique</th>\n",
       "      <th>nunique</th>\n",
       "      <th>count</th>\n",
       "    </tr>\n",
       "  </thead>\n",
       "  <tbody>\n",
       "    <tr>\n",
       "      <th>0</th>\n",
       "      <td>0.0</td>\n",
       "      <td>92994</td>\n",
       "      <td>190.011639</td>\n",
       "      <td>65609309.00</td>\n",
       "      <td>136</td>\n",
       "      <td>2395</td>\n",
       "      <td>345291</td>\n",
       "    </tr>\n",
       "    <tr>\n",
       "      <th>1</th>\n",
       "      <td>1.0</td>\n",
       "      <td>29683</td>\n",
       "      <td>746.929299</td>\n",
       "      <td>91433856.24</td>\n",
       "      <td>116</td>\n",
       "      <td>844</td>\n",
       "      <td>122413</td>\n",
       "    </tr>\n",
       "    <tr>\n",
       "      <th>2</th>\n",
       "      <td>2.0</td>\n",
       "      <td>23634</td>\n",
       "      <td>248.148918</td>\n",
       "      <td>59076812.92</td>\n",
       "      <td>125</td>\n",
       "      <td>1409</td>\n",
       "      <td>238070</td>\n",
       "    </tr>\n",
       "    <tr>\n",
       "      <th>3</th>\n",
       "      <td>3.0</td>\n",
       "      <td>12852</td>\n",
       "      <td>243.110134</td>\n",
       "      <td>71096829.23</td>\n",
       "      <td>136</td>\n",
       "      <td>2504</td>\n",
       "      <td>292447</td>\n",
       "    </tr>\n",
       "  </tbody>\n",
       "</table>\n",
       "</div>"
      ],
      "text/plain": [
       "  cluster user_id       price              category_code   brand event_type\n",
       "          nunique        mean          sum       nunique nunique      count\n",
       "0     0.0   92994  190.011639  65609309.00           136    2395     345291\n",
       "1     1.0   29683  746.929299  91433856.24           116     844     122413\n",
       "2     2.0   23634  248.148918  59076812.92           125    1409     238070\n",
       "3     3.0   12852  243.110134  71096829.23           136    2504     292447"
      ]
     },
     "execution_count": 183,
     "metadata": {},
     "output_type": "execute_result"
    }
   ],
   "source": [
    "cluster_summary"
   ]
  },
  {
   "cell_type": "code",
   "execution_count": 184,
   "id": "931543b8",
   "metadata": {},
   "outputs": [],
   "source": [
    "cluster_summary.columns = ['cluster', 'unique_users', 'avg_price', 'total_price', \n",
    "                           'unique_products', 'unique_brands', 'activity_count']\n",
    "\n",
    "# Optional: derive additional metrics\n",
    "cluster_summary['avg_activity'] = cluster_summary['activity_count'] / cluster_summary['unique_users']\n",
    "cluster_summary['avg_spend'] = cluster_summary['total_price'] / cluster_summary['unique_users']"
   ]
  },
  {
   "cell_type": "code",
   "execution_count": 185,
   "id": "7455bbfd",
   "metadata": {},
   "outputs": [
    {
     "data": {
      "text/html": [
       "<div>\n",
       "<style scoped>\n",
       "    .dataframe tbody tr th:only-of-type {\n",
       "        vertical-align: middle;\n",
       "    }\n",
       "\n",
       "    .dataframe tbody tr th {\n",
       "        vertical-align: top;\n",
       "    }\n",
       "\n",
       "    .dataframe thead th {\n",
       "        text-align: right;\n",
       "    }\n",
       "</style>\n",
       "<table border=\"1\" class=\"dataframe\">\n",
       "  <thead>\n",
       "    <tr style=\"text-align: right;\">\n",
       "      <th></th>\n",
       "      <th>cluster</th>\n",
       "      <th>unique_users</th>\n",
       "      <th>avg_price</th>\n",
       "      <th>total_price</th>\n",
       "      <th>unique_products</th>\n",
       "      <th>unique_brands</th>\n",
       "      <th>activity_count</th>\n",
       "      <th>avg_activity</th>\n",
       "      <th>avg_spend</th>\n",
       "    </tr>\n",
       "  </thead>\n",
       "  <tbody>\n",
       "    <tr>\n",
       "      <th>0</th>\n",
       "      <td>0.0</td>\n",
       "      <td>92994</td>\n",
       "      <td>190.011639</td>\n",
       "      <td>65609309.00</td>\n",
       "      <td>136</td>\n",
       "      <td>2395</td>\n",
       "      <td>345291</td>\n",
       "      <td>3.713046</td>\n",
       "      <td>705.521958</td>\n",
       "    </tr>\n",
       "    <tr>\n",
       "      <th>1</th>\n",
       "      <td>1.0</td>\n",
       "      <td>29683</td>\n",
       "      <td>746.929299</td>\n",
       "      <td>91433856.24</td>\n",
       "      <td>116</td>\n",
       "      <td>844</td>\n",
       "      <td>122413</td>\n",
       "      <td>4.124010</td>\n",
       "      <td>3080.344178</td>\n",
       "    </tr>\n",
       "    <tr>\n",
       "      <th>2</th>\n",
       "      <td>2.0</td>\n",
       "      <td>23634</td>\n",
       "      <td>248.148918</td>\n",
       "      <td>59076812.92</td>\n",
       "      <td>125</td>\n",
       "      <td>1409</td>\n",
       "      <td>238070</td>\n",
       "      <td>10.073200</td>\n",
       "      <td>2499.653589</td>\n",
       "    </tr>\n",
       "    <tr>\n",
       "      <th>3</th>\n",
       "      <td>3.0</td>\n",
       "      <td>12852</td>\n",
       "      <td>243.110134</td>\n",
       "      <td>71096829.23</td>\n",
       "      <td>136</td>\n",
       "      <td>2504</td>\n",
       "      <td>292447</td>\n",
       "      <td>22.754980</td>\n",
       "      <td>5531.966171</td>\n",
       "    </tr>\n",
       "  </tbody>\n",
       "</table>\n",
       "</div>"
      ],
      "text/plain": [
       "   cluster  unique_users   avg_price  total_price  unique_products  \\\n",
       "0      0.0         92994  190.011639  65609309.00              136   \n",
       "1      1.0         29683  746.929299  91433856.24              116   \n",
       "2      2.0         23634  248.148918  59076812.92              125   \n",
       "3      3.0         12852  243.110134  71096829.23              136   \n",
       "\n",
       "   unique_brands  activity_count  avg_activity    avg_spend  \n",
       "0           2395          345291      3.713046   705.521958  \n",
       "1            844          122413      4.124010  3080.344178  \n",
       "2           1409          238070     10.073200  2499.653589  \n",
       "3           2504          292447     22.754980  5531.966171  "
      ]
     },
     "execution_count": 185,
     "metadata": {},
     "output_type": "execute_result"
    }
   ],
   "source": [
    "cluster_summary"
   ]
  },
  {
   "cell_type": "markdown",
   "id": "b64695d1",
   "metadata": {},
   "source": [
    "# Insights for Business"
   ]
  },
  {
   "cell_type": "code",
   "execution_count": 188,
   "id": "77ca22c8",
   "metadata": {},
   "outputs": [],
   "source": [
    "# Add concise behavior and strategy\n",
    "cluster_summary['behavior'] = ''\n",
    "cluster_summary['strategy'] = ''\n",
    "\n",
    "for idx, row in cluster_summary.iterrows():\n",
    "    avg_activity = row['avg_activity']\n",
    "    avg_spend = row['avg_spend']\n",
    "    \n",
    "    if avg_spend > 5000:\n",
    "        behavior = \"High spend, very active\"\n",
    "        strategy = \"Upsell premium, exclusives\"\n",
    "    elif avg_spend > 3000:\n",
    "        behavior = \"High spend, moderate active\"\n",
    "        strategy = \"Offer high-value products\"\n",
    "    elif avg_activity > 10 and avg_spend > 2000:\n",
    "        behavior = \"Active, value-driven\"\n",
    "        strategy = \"Bundles, loyalty rewards\"\n",
    "    else:\n",
    "        behavior = \"Low spend, low active\"\n",
    "        strategy = \"Small discounts, drive visits\"\n",
    "    \n",
    "    cluster_summary.loc[idx, 'behavior'] = behavior\n",
    "    cluster_summary.loc[idx, 'strategy'] = strategy\n"
   ]
  },
  {
   "cell_type": "code",
   "execution_count": 189,
   "id": "5d7f3c91",
   "metadata": {},
   "outputs": [
    {
     "data": {
      "text/html": [
       "<div>\n",
       "<style scoped>\n",
       "    .dataframe tbody tr th:only-of-type {\n",
       "        vertical-align: middle;\n",
       "    }\n",
       "\n",
       "    .dataframe tbody tr th {\n",
       "        vertical-align: top;\n",
       "    }\n",
       "\n",
       "    .dataframe thead th {\n",
       "        text-align: right;\n",
       "    }\n",
       "</style>\n",
       "<table border=\"1\" class=\"dataframe\">\n",
       "  <thead>\n",
       "    <tr style=\"text-align: right;\">\n",
       "      <th></th>\n",
       "      <th>cluster</th>\n",
       "      <th>unique_users</th>\n",
       "      <th>avg_price</th>\n",
       "      <th>total_price</th>\n",
       "      <th>unique_products</th>\n",
       "      <th>unique_brands</th>\n",
       "      <th>activity_count</th>\n",
       "      <th>avg_activity</th>\n",
       "      <th>avg_spend</th>\n",
       "      <th>behavior</th>\n",
       "      <th>strategy</th>\n",
       "    </tr>\n",
       "  </thead>\n",
       "  <tbody>\n",
       "    <tr>\n",
       "      <th>0</th>\n",
       "      <td>0.0</td>\n",
       "      <td>92994</td>\n",
       "      <td>190.011639</td>\n",
       "      <td>65609309.00</td>\n",
       "      <td>136</td>\n",
       "      <td>2395</td>\n",
       "      <td>345291</td>\n",
       "      <td>3.713046</td>\n",
       "      <td>705.521958</td>\n",
       "      <td>Low spend, low active</td>\n",
       "      <td>Small discounts, drive visits</td>\n",
       "    </tr>\n",
       "    <tr>\n",
       "      <th>1</th>\n",
       "      <td>1.0</td>\n",
       "      <td>29683</td>\n",
       "      <td>746.929299</td>\n",
       "      <td>91433856.24</td>\n",
       "      <td>116</td>\n",
       "      <td>844</td>\n",
       "      <td>122413</td>\n",
       "      <td>4.124010</td>\n",
       "      <td>3080.344178</td>\n",
       "      <td>High spend, moderate active</td>\n",
       "      <td>Offer high-value products</td>\n",
       "    </tr>\n",
       "    <tr>\n",
       "      <th>2</th>\n",
       "      <td>2.0</td>\n",
       "      <td>23634</td>\n",
       "      <td>248.148918</td>\n",
       "      <td>59076812.92</td>\n",
       "      <td>125</td>\n",
       "      <td>1409</td>\n",
       "      <td>238070</td>\n",
       "      <td>10.073200</td>\n",
       "      <td>2499.653589</td>\n",
       "      <td>Active, value-driven</td>\n",
       "      <td>Bundles, loyalty rewards</td>\n",
       "    </tr>\n",
       "    <tr>\n",
       "      <th>3</th>\n",
       "      <td>3.0</td>\n",
       "      <td>12852</td>\n",
       "      <td>243.110134</td>\n",
       "      <td>71096829.23</td>\n",
       "      <td>136</td>\n",
       "      <td>2504</td>\n",
       "      <td>292447</td>\n",
       "      <td>22.754980</td>\n",
       "      <td>5531.966171</td>\n",
       "      <td>High spend, very active</td>\n",
       "      <td>Upsell premium, exclusives</td>\n",
       "    </tr>\n",
       "  </tbody>\n",
       "</table>\n",
       "</div>"
      ],
      "text/plain": [
       "   cluster  unique_users   avg_price  total_price  unique_products  \\\n",
       "0      0.0         92994  190.011639  65609309.00              136   \n",
       "1      1.0         29683  746.929299  91433856.24              116   \n",
       "2      2.0         23634  248.148918  59076812.92              125   \n",
       "3      3.0         12852  243.110134  71096829.23              136   \n",
       "\n",
       "   unique_brands  activity_count  avg_activity    avg_spend  \\\n",
       "0           2395          345291      3.713046   705.521958   \n",
       "1            844          122413      4.124010  3080.344178   \n",
       "2           1409          238070     10.073200  2499.653589   \n",
       "3           2504          292447     22.754980  5531.966171   \n",
       "\n",
       "                      behavior                       strategy  \n",
       "0        Low spend, low active  Small discounts, drive visits  \n",
       "1  High spend, moderate active      Offer high-value products  \n",
       "2         Active, value-driven       Bundles, loyalty rewards  \n",
       "3      High spend, very active     Upsell premium, exclusives  "
      ]
     },
     "execution_count": 189,
     "metadata": {},
     "output_type": "execute_result"
    }
   ],
   "source": [
    "cluster_summary"
   ]
  },
  {
   "cell_type": "markdown",
   "id": "e3c265a2",
   "metadata": {},
   "source": [
    "## Key Business Insights\n",
    "- Majority of users (Cluster 0) are low engagement, low spend — huge opportunity to convert with targeted entry-level discounts and campaigns.\n",
    "\n",
    "- Cluster 1 represents affluent shoppers who make high-value purchases despite moderate activity — ideal candidates for premium product recommendations, early access deals.\n",
    "\n",
    "- Cluster 2 shows highly active, value-conscious users — they engage often and explore products, but spending is moderate. Use bundles, loyalty points, and personalized offers to convert frequent visits into higher spend.\n",
    "\n",
    "- Cluster 3 contains your most valuable segment — high spenders with very high activity. Prioritize them with exclusivity, premium upsells, VIP treatment to boost lifetime value."
   ]
  },
  {
   "cell_type": "markdown",
   "id": "e21ceeaf",
   "metadata": {},
   "source": [
    "# END"
   ]
  }
 ],
 "metadata": {
  "kernelspec": {
   "display_name": "Python 3 (ipykernel)",
   "language": "python",
   "name": "python3"
  },
  "language_info": {
   "codemirror_mode": {
    "name": "ipython",
    "version": 3
   },
   "file_extension": ".py",
   "mimetype": "text/x-python",
   "name": "python",
   "nbconvert_exporter": "python",
   "pygments_lexer": "ipython3",
   "version": "3.10.9"
  }
 },
 "nbformat": 4,
 "nbformat_minor": 5
}
